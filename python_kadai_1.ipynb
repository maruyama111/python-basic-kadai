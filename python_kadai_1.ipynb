{
  "nbformat": 4,
  "nbformat_minor": 0,
  "metadata": {
    "colab": {
      "provenance": []
    },
    "kernelspec": {
      "name": "python3",
      "display_name": "Python 3"
    },
    "language_info": {
      "name": "python"
    }
  },
  "cells": [
    {
      "cell_type": "code",
      "execution_count": 3,
      "metadata": {
        "colab": {
          "base_uri": "https://localhost:8080/"
        },
        "id": "cCweRXGnm8k3",
        "outputId": "7a1c0411-b96c-4c98-bad5-75b51e8f9e82"
      },
      "outputs": [
        {
          "output_type": "stream",
          "name": "stdout",
          "text": [
            "3\n"
          ]
        }
      ],
      "source": [
        "print(1+2)"
      ]
    },
    {
      "cell_type": "code",
      "source": [
        "age = 21 # 年齢\n",
        "\n",
        "if age < 20:\n",
        "    # 未成年の場合\n",
        "    print(\"ジュースで乾杯！\")\n",
        "    '''\n",
        "else:\n",
        "    # 成年の場合\n",
        "    print(\"お酒で乾杯！\")\n",
        "    '''\n"
      ],
      "metadata": {
        "id": "YRsIZVqknoML"
      },
      "execution_count": 7,
      "outputs": []
    },
    {
      "cell_type": "code",
      "source": [
        "print(45+18)\n",
        "print(30-12)\n",
        "print(15*6)\n",
        "print(30/3)\n",
        "print(45%8)"
      ],
      "metadata": {
        "colab": {
          "base_uri": "https://localhost:8080/"
        },
        "id": "4o0gprzohrdL",
        "outputId": "f226f465-79ba-4ec7-a236-56298552c778"
      },
      "execution_count": 1,
      "outputs": [
        {
          "output_type": "stream",
          "name": "stdout",
          "text": [
            "63\n",
            "18\n",
            "90\n",
            "10.0\n",
            "5\n"
          ]
        }
      ]
    },
    {
      "cell_type": "code",
      "source": [
        "print(45+1.8)\n",
        "print(3-1.2)\n",
        "print(15*0.6)\n",
        "print(3/0.3)\n",
        "print(45%0.8)"
      ],
      "metadata": {
        "colab": {
          "base_uri": "https://localhost:8080/"
        },
        "id": "4SZ5as-diMVQ",
        "outputId": "7abc6bc1-593a-4d75-824e-3cd5f67ce34f"
      },
      "execution_count": 2,
      "outputs": [
        {
          "output_type": "stream",
          "name": "stdout",
          "text": [
            "46.8\n",
            "1.8\n",
            "9.0\n",
            "10.0\n",
            "0.1999999999999975\n"
          ]
        }
      ]
    },
    {
      "cell_type": "code",
      "source": [
        "print(\"今日の天気は\"+\"晴れ\")\n",
        "print(\"今日の天気は\" \"曇り\")"
      ],
      "metadata": {
        "colab": {
          "base_uri": "https://localhost:8080/"
        },
        "id": "nXNoCJESikzA",
        "outputId": "404ec0af-bdaa-4c52-ebc6-e581f57c4df9"
      },
      "execution_count": 3,
      "outputs": [
        {
          "output_type": "stream",
          "name": "stdout",
          "text": [
            "今日の天気は晴れ\n",
            "今日の天気は曇り\n"
          ]
        }
      ]
    },
    {
      "cell_type": "code",
      "source": [
        "print(\"降水確率\"+str(50)+\"%\")"
      ],
      "metadata": {
        "colab": {
          "base_uri": "https://localhost:8080/"
        },
        "id": "LGmBl0b1i626",
        "outputId": "474a1e3a-477b-448a-ef78-e5e89a4c38e2"
      },
      "execution_count": 4,
      "outputs": [
        {
          "output_type": "stream",
          "name": "stdout",
          "text": [
            "降水確率50%\n"
          ]
        }
      ]
    },
    {
      "cell_type": "code",
      "source": [
        "print(\"晴れ\"*5)\n",
        "print(\"晴れ\"+\"晴れ\"+\"晴れ\"+\"晴れ\"+\"晴れ\")"
      ],
      "metadata": {
        "colab": {
          "base_uri": "https://localhost:8080/"
        },
        "id": "BqzVWNpgjJD8",
        "outputId": "31837117-d911-4e8d-8c26-71e43f1ce954"
      },
      "execution_count": 5,
      "outputs": [
        {
          "output_type": "stream",
          "name": "stdout",
          "text": [
            "晴れ晴れ晴れ晴れ晴れ\n",
            "晴れ晴れ晴れ晴れ晴れ\n"
          ]
        }
      ]
    },
    {
      "cell_type": "code",
      "source": [
        "user_name = \"侍太郎\"\n",
        "print(user_name)\n",
        "\n",
        "user_name = \"侍花子\"\n",
        "print(user_name)"
      ],
      "metadata": {
        "colab": {
          "base_uri": "https://localhost:8080/"
        },
        "id": "bbphfLEcmn11",
        "outputId": "88334d9f-36c9-4db5-f104-39498a59e60f"
      },
      "execution_count": 7,
      "outputs": [
        {
          "output_type": "stream",
          "name": "stdout",
          "text": [
            "侍太郎\n",
            "侍花子\n"
          ]
        }
      ]
    },
    {
      "cell_type": "code",
      "source": [
        "number1=5\n",
        "number2=2.5\n",
        "print(number1+number2)\n",
        "\n",
        "last_name=\"侍\"\n",
        "first_name=\"太郎\"\n",
        "print(last_name+first_name)"
      ],
      "metadata": {
        "colab": {
          "base_uri": "https://localhost:8080/"
        },
        "id": "eUH4ukuxm7Lg",
        "outputId": "1fcfa8ef-ecbd-4d96-861a-1178f99fbb07"
      },
      "execution_count": 8,
      "outputs": [
        {
          "output_type": "stream",
          "name": "stdout",
          "text": [
            "7.5\n",
            "侍太郎\n"
          ]
        }
      ]
    },
    {
      "cell_type": "code",
      "source": [
        "last_name=\"侍\"\n",
        "first_name=\"太郎\"\n",
        "sister_name=\"花子\"\n",
        "\n",
        "print(f\"私の名前は{last_name}{first_name}です。妹の名前は{sister_name}です。\")"
      ],
      "metadata": {
        "colab": {
          "base_uri": "https://localhost:8080/"
        },
        "id": "K2vCyP_4ndK2",
        "outputId": "ce1b6786-76e7-4afe-9355-2a1ce234c8af"
      },
      "execution_count": 9,
      "outputs": [
        {
          "output_type": "stream",
          "name": "stdout",
          "text": [
            "私の名前は侍太郎です。妹の名前は花子です。\n"
          ]
        }
      ]
    },
    {
      "cell_type": "code",
      "source": [
        "upper_side=10\n",
        "lower_side=20\n",
        "height=5\n",
        "area=(upper_side+lower_side)*height/2\n",
        "\n",
        "print(f\"台形の面積 = {area}cm2\")"
      ],
      "metadata": {
        "colab": {
          "base_uri": "https://localhost:8080/"
        },
        "id": "6-vbaLHwpmse",
        "outputId": "24a0ba1c-5fba-498d-cfed-1732fe5a47da"
      },
      "execution_count": 10,
      "outputs": [
        {
          "output_type": "stream",
          "name": "stdout",
          "text": [
            "台形の面積 = 75.0cm2\n"
          ]
        }
      ]
    }
  ]
}