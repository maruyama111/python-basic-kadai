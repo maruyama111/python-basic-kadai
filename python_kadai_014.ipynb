{
  "nbformat": 4,
  "nbformat_minor": 0,
  "metadata": {
    "colab": {
      "provenance": []
    },
    "kernelspec": {
      "name": "python3",
      "display_name": "Python 3"
    },
    "language_info": {
      "name": "python"
    }
  },
  "cells": [
    {
      "cell_type": "code",
      "execution_count": 3,
      "metadata": {
        "colab": {
          "base_uri": "https://localhost:8080/"
        },
        "id": "cCweRXGnm8k3",
        "outputId": "7a1c0411-b96c-4c98-bad5-75b51e8f9e82"
      },
      "outputs": [
        {
          "output_type": "stream",
          "name": "stdout",
          "text": [
            "3\n"
          ]
        }
      ],
      "source": [
        "print(1+2)"
      ]
    },
    {
      "cell_type": "code",
      "source": [
        "age = 21 # 年齢\n",
        "\n",
        "if age < 20:\n",
        "    # 未成年の場合\n",
        "    print(\"ジュースで乾杯！\")\n",
        "    '''\n",
        "else:\n",
        "    # 成年の場合\n",
        "    print(\"お酒で乾杯！\")\n",
        "    '''\n"
      ],
      "metadata": {
        "id": "YRsIZVqknoML"
      },
      "execution_count": 7,
      "outputs": []
    },
    {
      "cell_type": "code",
      "source": [
        "print(45+18)\n",
        "print(30-12)\n",
        "print(15*6)\n",
        "print(30/3)\n",
        "print(45%8)"
      ],
      "metadata": {
        "colab": {
          "base_uri": "https://localhost:8080/"
        },
        "id": "4o0gprzohrdL",
        "outputId": "f226f465-79ba-4ec7-a236-56298552c778"
      },
      "execution_count": 1,
      "outputs": [
        {
          "output_type": "stream",
          "name": "stdout",
          "text": [
            "63\n",
            "18\n",
            "90\n",
            "10.0\n",
            "5\n"
          ]
        }
      ]
    },
    {
      "cell_type": "code",
      "source": [
        "print(45+1.8)\n",
        "print(3-1.2)\n",
        "print(15*0.6)\n",
        "print(3/0.3)\n",
        "print(45%0.8)"
      ],
      "metadata": {
        "colab": {
          "base_uri": "https://localhost:8080/"
        },
        "id": "4SZ5as-diMVQ",
        "outputId": "7abc6bc1-593a-4d75-824e-3cd5f67ce34f"
      },
      "execution_count": 2,
      "outputs": [
        {
          "output_type": "stream",
          "name": "stdout",
          "text": [
            "46.8\n",
            "1.8\n",
            "9.0\n",
            "10.0\n",
            "0.1999999999999975\n"
          ]
        }
      ]
    },
    {
      "cell_type": "code",
      "source": [
        "print(\"今日の天気は\"+\"晴れ\")\n",
        "print(\"今日の天気は\" \"曇り\")"
      ],
      "metadata": {
        "colab": {
          "base_uri": "https://localhost:8080/"
        },
        "id": "nXNoCJESikzA",
        "outputId": "404ec0af-bdaa-4c52-ebc6-e581f57c4df9"
      },
      "execution_count": 3,
      "outputs": [
        {
          "output_type": "stream",
          "name": "stdout",
          "text": [
            "今日の天気は晴れ\n",
            "今日の天気は曇り\n"
          ]
        }
      ]
    },
    {
      "cell_type": "code",
      "source": [
        "print(\"降水確率\"+str(50)+\"%\")"
      ],
      "metadata": {
        "colab": {
          "base_uri": "https://localhost:8080/"
        },
        "id": "LGmBl0b1i626",
        "outputId": "474a1e3a-477b-448a-ef78-e5e89a4c38e2"
      },
      "execution_count": 4,
      "outputs": [
        {
          "output_type": "stream",
          "name": "stdout",
          "text": [
            "降水確率50%\n"
          ]
        }
      ]
    },
    {
      "cell_type": "code",
      "source": [
        "print(\"晴れ\"*5)\n",
        "print(\"晴れ\"+\"晴れ\"+\"晴れ\"+\"晴れ\"+\"晴れ\")"
      ],
      "metadata": {
        "colab": {
          "base_uri": "https://localhost:8080/"
        },
        "id": "BqzVWNpgjJD8",
        "outputId": "31837117-d911-4e8d-8c26-71e43f1ce954"
      },
      "execution_count": 5,
      "outputs": [
        {
          "output_type": "stream",
          "name": "stdout",
          "text": [
            "晴れ晴れ晴れ晴れ晴れ\n",
            "晴れ晴れ晴れ晴れ晴れ\n"
          ]
        }
      ]
    },
    {
      "cell_type": "code",
      "source": [
        "user_name = \"侍太郎\"\n",
        "print(user_name)\n",
        "\n",
        "user_name = \"侍花子\"\n",
        "print(user_name)"
      ],
      "metadata": {
        "colab": {
          "base_uri": "https://localhost:8080/"
        },
        "id": "bbphfLEcmn11",
        "outputId": "88334d9f-36c9-4db5-f104-39498a59e60f"
      },
      "execution_count": 7,
      "outputs": [
        {
          "output_type": "stream",
          "name": "stdout",
          "text": [
            "侍太郎\n",
            "侍花子\n"
          ]
        }
      ]
    },
    {
      "cell_type": "code",
      "source": [
        "number1=5\n",
        "number2=2.5\n",
        "print(number1+number2)\n",
        "\n",
        "last_name=\"侍\"\n",
        "first_name=\"太郎\"\n",
        "print(last_name+first_name)"
      ],
      "metadata": {
        "colab": {
          "base_uri": "https://localhost:8080/"
        },
        "id": "eUH4ukuxm7Lg",
        "outputId": "1fcfa8ef-ecbd-4d96-861a-1178f99fbb07"
      },
      "execution_count": 8,
      "outputs": [
        {
          "output_type": "stream",
          "name": "stdout",
          "text": [
            "7.5\n",
            "侍太郎\n"
          ]
        }
      ]
    },
    {
      "cell_type": "code",
      "source": [
        "last_name=\"侍\"\n",
        "first_name=\"太郎\"\n",
        "sister_name=\"花子\"\n",
        "\n",
        "print(f\"私の名前は{last_name}{first_name}です。妹の名前は{sister_name}です。\")"
      ],
      "metadata": {
        "colab": {
          "base_uri": "https://localhost:8080/"
        },
        "id": "K2vCyP_4ndK2",
        "outputId": "ce1b6786-76e7-4afe-9355-2a1ce234c8af"
      },
      "execution_count": 9,
      "outputs": [
        {
          "output_type": "stream",
          "name": "stdout",
          "text": [
            "私の名前は侍太郎です。妹の名前は花子です。\n"
          ]
        }
      ]
    },
    {
      "cell_type": "code",
      "source": [
        "upper_side=10\n",
        "lower_side=20\n",
        "height=5\n",
        "area=(upper_side+lower_side)*height/2\n",
        "\n",
        "print(f\"台形の面積 = {area}cm2\")"
      ],
      "metadata": {
        "colab": {
          "base_uri": "https://localhost:8080/"
        },
        "id": "6-vbaLHwpmse",
        "outputId": "24a0ba1c-5fba-498d-cfed-1732fe5a47da"
      },
      "execution_count": 10,
      "outputs": [
        {
          "output_type": "stream",
          "name": "stdout",
          "text": [
            "台形の面積 = 75.0cm2\n"
          ]
        }
      ]
    },
    {
      "cell_type": "code",
      "source": [
        "user_names=[\"侍太郎\", \"侍一郎\", \"侍二郎\", \"侍三郎\", \"侍四郎\"]\n",
        "print(user_names[1])\n",
        "\n",
        "user_names[1]=\"侍花子\"\n",
        "print(user_names)\n",
        "\n",
        "user_names.append(\"侍五郎\")\n",
        "print(user_names)\n",
        "\n",
        "user_names.pop(2)\n",
        "print(user_names)"
      ],
      "metadata": {
        "colab": {
          "base_uri": "https://localhost:8080/"
        },
        "id": "Gj9L2ho9aNJq",
        "outputId": "4d3b1c29-193a-41c7-d54e-050910ff28d3"
      },
      "execution_count": 2,
      "outputs": [
        {
          "output_type": "stream",
          "name": "stdout",
          "text": [
            "侍一郎\n",
            "['侍太郎', '侍花子', '侍二郎', '侍三郎', '侍四郎']\n",
            "['侍太郎', '侍花子', '侍二郎', '侍三郎', '侍四郎', '侍五郎']\n",
            "['侍太郎', '侍花子', '侍三郎', '侍四郎', '侍五郎']\n"
          ]
        }
      ]
    },
    {
      "cell_type": "code",
      "source": [
        "country_names=(\"日本\", \"アメリカ\", \"イギリス\", \"フランス\")\n",
        "print(country_names[2])\n",
        "print(country_names)"
      ],
      "metadata": {
        "colab": {
          "base_uri": "https://localhost:8080/"
        },
        "id": "xZTipOhAbger",
        "outputId": "3d25049b-f1a9-4d98-f97f-f485d5c682de"
      },
      "execution_count": 3,
      "outputs": [
        {
          "output_type": "stream",
          "name": "stdout",
          "text": [
            "イギリス\n",
            "('日本', 'アメリカ', 'イギリス', 'フランス')\n"
          ]
        }
      ]
    },
    {
      "cell_type": "code",
      "source": [
        "country_names={\"アメリカ\", \"イギリス\", \"日本\", \"フランス\"}\n",
        "print(country_names)\n",
        "\n",
        "country_names.add(\"ドイツ\")\n",
        "print(country_names)\n",
        "\n",
        "country_names.remove(\"イギリス\")\n",
        "print(country_names)"
      ],
      "metadata": {
        "colab": {
          "base_uri": "https://localhost:8080/"
        },
        "id": "UpdaYTLJb8P7",
        "outputId": "8db947fa-1b04-41b9-a231-d81ea1c9d122"
      },
      "execution_count": 4,
      "outputs": [
        {
          "output_type": "stream",
          "name": "stdout",
          "text": [
            "{'フランス', 'イギリス', 'アメリカ', '日本'}\n",
            "{'イギリス', 'フランス', 'ドイツ', '日本', 'アメリカ'}\n",
            "{'フランス', 'ドイツ', '日本', 'アメリカ'}\n"
          ]
        }
      ]
    },
    {
      "cell_type": "code",
      "source": [
        "personal_data={\"name\":\"侍太郎\", \"age\":36, \"gender\":\"男性\"}\n",
        "print(personal_data[\"name\"])\n",
        "print(personal_data)\n",
        "personal_data[\"age\"] = 37\n",
        "personal_data[\"address\"] = \"東京都\"\n",
        "print(personal_data)"
      ],
      "metadata": {
        "colab": {
          "base_uri": "https://localhost:8080/"
        },
        "id": "oFbt_JsvhBKh",
        "outputId": "0a3b0f1f-ff40-42b6-ac35-4d1b20a5cf74"
      },
      "execution_count": 5,
      "outputs": [
        {
          "output_type": "stream",
          "name": "stdout",
          "text": [
            "侍太郎\n",
            "{'name': '侍太郎', 'age': 36, 'gender': '男性'}\n",
            "{'name': '侍太郎', 'age': 37, 'gender': '男性', 'address': '東京都'}\n"
          ]
        }
      ]
    },
    {
      "cell_type": "code",
      "source": [
        "array=[\"月曜日は晴れです\",\"火曜日は雨です\",\"水曜日は晴れです\",\"木曜日は晴れです\",\"金曜日は曇りです\",\"土曜日は曇りのち雨です\",\"日曜日は雷雨です\"]\n",
        "print(array[2])\n",
        "\n",
        "dictionary={\"mon\":\"晴れ\", \"tue\":\"雨\", \"wed\":\"晴れ\", \"thu\":\"晴れ\", \"fri\":\"曇り\", \"sat\":\"曇りのち雨\", \"sun\":\"雷雨\"}\n",
        "print(dictionary[\"wed\"])"
      ],
      "metadata": {
        "colab": {
          "base_uri": "https://localhost:8080/"
        },
        "id": "he_Z2M_8jE2T",
        "outputId": "6fd39dff-7086-4c0d-8459-9b49fb1b2823"
      },
      "execution_count": 6,
      "outputs": [
        {
          "output_type": "stream",
          "name": "stdout",
          "text": [
            "水曜日は晴れです\n",
            "晴れ\n"
          ]
        }
      ]
    },
    {
      "cell_type": "code",
      "source": [
        "print(45+18)\n",
        "print(45>18)"
      ],
      "metadata": {
        "colab": {
          "base_uri": "https://localhost:8080/"
        },
        "id": "W_FqVUgdyY3r",
        "outputId": "ae98a978-183c-49f3-82db-547b6c966c8a"
      },
      "execution_count": 7,
      "outputs": [
        {
          "output_type": "stream",
          "name": "stdout",
          "text": [
            "63\n",
            "True\n"
          ]
        }
      ]
    },
    {
      "cell_type": "code",
      "source": [
        "print(\"5\"==5)"
      ],
      "metadata": {
        "colab": {
          "base_uri": "https://localhost:8080/"
        },
        "id": "gqhA16rtynqb",
        "outputId": "620aca45-89cc-4baf-b990-ea0811c82719"
      },
      "execution_count": 8,
      "outputs": [
        {
          "output_type": "stream",
          "name": "stdout",
          "text": [
            "False\n"
          ]
        }
      ]
    },
    {
      "cell_type": "code",
      "source": [
        "num1=5\n",
        "num2=\"5\"\n",
        "\n",
        "if num1 == int(num2):\n",
        "  print(\"num1とnum2は等しいです\")"
      ],
      "metadata": {
        "colab": {
          "base_uri": "https://localhost:8080/"
        },
        "id": "UW8fsVDwy0wo",
        "outputId": "cdc64fd3-02db-4d46-e630-b899bd6be7a4"
      },
      "execution_count": 9,
      "outputs": [
        {
          "output_type": "stream",
          "name": "stdout",
          "text": [
            "num1とnum2は等しいです\n"
          ]
        }
      ]
    },
    {
      "cell_type": "code",
      "source": [
        "import random\n",
        "\n",
        "num=random.randint(0,4)\n",
        "\n",
        "print(num)\n",
        "\n",
        "if num == 4:\n",
        "  print(\"大当たりです\")\n",
        "elif num ==3:\n",
        "  print(\"当たりです\")\n",
        "else:\n",
        "  print(\"はずれです\")"
      ],
      "metadata": {
        "colab": {
          "base_uri": "https://localhost:8080/"
        },
        "id": "8qkM8xsk42m7",
        "outputId": "1a5ba5e0-59b0-4752-c76f-04c7fe989e85"
      },
      "execution_count": 15,
      "outputs": [
        {
          "output_type": "stream",
          "name": "stdout",
          "text": [
            "3\n",
            "当たりです\n"
          ]
        }
      ]
    },
    {
      "cell_type": "code",
      "source": [
        "import random\n",
        "\n",
        "num=random.randint(0,4)\n",
        "\n",
        "print(num)\n",
        "\n",
        "if 1 < num and num <3:\n",
        "  print(\"変数numは１より大きく、３より小さいです\")\n",
        "else:\n",
        "  print(\"and条件が成り立ちませんでした\")\n",
        "\n",
        "if num == 1 or num == 3:\n",
        "  print(\"変数numは１または３です\")\n",
        "else:\n",
        "  print(\"or条件が成り立ちませんでした\")"
      ],
      "metadata": {
        "colab": {
          "base_uri": "https://localhost:8080/"
        },
        "id": "gNjsJiBo6YZ2",
        "outputId": "879dda2e-f78c-47b0-94a2-f91abc35f152"
      },
      "execution_count": 33,
      "outputs": [
        {
          "output_type": "stream",
          "name": "stdout",
          "text": [
            "2\n",
            "変数numは１より大きく、３より小さいです\n",
            "or条件が成り立ちませんでした\n"
          ]
        }
      ]
    },
    {
      "cell_type": "code",
      "source": [
        "import random\n",
        "\n",
        "var=random.randint(0,100)\n",
        "\n",
        "if var%3 == 0 and var%5 == 0:\n",
        "  print(\"FizzBuzz\")\n",
        "\n",
        "elif var%3 == 0:\n",
        "  print(\"Fizz\")\n",
        "\n",
        "elif var%5 == 0:\n",
        "  print(\"Buzz\")\n",
        "\n",
        "else:\n",
        "  print(var)"
      ],
      "metadata": {
        "colab": {
          "base_uri": "https://localhost:8080/"
        },
        "id": "L5qbFmUn_yfX",
        "outputId": "9e6cda32-357c-4f11-df50-2ac669a5747f"
      },
      "execution_count": 42,
      "outputs": [
        {
          "output_type": "stream",
          "name": "stdout",
          "text": [
            "75\n",
            "FizzBuzz\n"
          ]
        }
      ]
    },
    {
      "cell_type": "code",
      "source": [
        "for i in range(1,11):\n",
        "  print(i)"
      ],
      "metadata": {
        "colab": {
          "base_uri": "https://localhost:8080/"
        },
        "id": "dS0T2wrttiNw",
        "outputId": "660b4b02-36df-4bb0-e8a8-d33861fa9a20"
      },
      "execution_count": 1,
      "outputs": [
        {
          "output_type": "stream",
          "name": "stdout",
          "text": [
            "1\n",
            "2\n",
            "3\n",
            "4\n",
            "5\n",
            "6\n",
            "7\n",
            "8\n",
            "9\n",
            "10\n"
          ]
        }
      ]
    },
    {
      "cell_type": "code",
      "source": [
        "import random\n",
        "\n",
        "for i in range(1,11):\n",
        "  num=random.randint(1,20)\n",
        "  print(f\"{i}回目の結果は{num}です\")\n",
        "\n",
        "  if num == 20:\n",
        "    print(\"20が出たので繰り返し処理を終了します\")\n",
        "    break"
      ],
      "metadata": {
        "colab": {
          "base_uri": "https://localhost:8080/"
        },
        "id": "733UT07-t1LO",
        "outputId": "56e9055f-38c0-4a8e-a7d4-ee4d32d22ab8"
      },
      "execution_count": 4,
      "outputs": [
        {
          "output_type": "stream",
          "name": "stdout",
          "text": [
            "1回目の結果は7です\n",
            "2回目の結果は16です\n",
            "3回目の結果は11です\n",
            "4回目の結果は15です\n",
            "5回目の結果は2です\n",
            "6回目の結果は1です\n",
            "7回目の結果は5です\n",
            "8回目の結果は9です\n",
            "9回目の結果は1です\n",
            "10回目の結果は10です\n"
          ]
        }
      ]
    },
    {
      "cell_type": "code",
      "source": [
        "for i in range(1,11):\n",
        "  if i % 2 == 1:\n",
        "    continue\n",
        "\n",
        "  print(i)"
      ],
      "metadata": {
        "colab": {
          "base_uri": "https://localhost:8080/"
        },
        "id": "et79X3LDujJM",
        "outputId": "ad56dfa3-40d6-48fd-a945-fad42334aa30"
      },
      "execution_count": 5,
      "outputs": [
        {
          "output_type": "stream",
          "name": "stdout",
          "text": [
            "2\n",
            "4\n",
            "6\n",
            "8\n",
            "10\n"
          ]
        }
      ]
    },
    {
      "cell_type": "code",
      "source": [
        "import random\n",
        "num = random.randint(0,4)\n",
        "print(f\"最初の値は{num}です。\")\n",
        "\n",
        "while num != 0:\n",
        "  num = random.randint(0,4)\n",
        "  print(f\"現在の値は{num}です。\")"
      ],
      "metadata": {
        "colab": {
          "base_uri": "https://localhost:8080/"
        },
        "id": "Ej8Qfbbfvl0p",
        "outputId": "7e84da78-42d3-459d-90b6-d8609b679598"
      },
      "execution_count": 8,
      "outputs": [
        {
          "output_type": "stream",
          "name": "stdout",
          "text": [
            "最初の値は1です。\n",
            "現在の値は2です。\n",
            "現在の値は4です。\n",
            "現在の値は2です。\n",
            "現在の値は4です。\n",
            "現在の値は3です。\n",
            "現在の値は3です。\n",
            "現在の値は4です。\n",
            "現在の値は3です。\n",
            "現在の値は0です。\n"
          ]
        }
      ]
    },
    {
      "cell_type": "code",
      "source": [
        "import random\n",
        "num = random.randint(0,4)\n",
        "i = 1\n",
        "\n",
        "print(f\"最初の値は{num}です。\")\n",
        "\n",
        "while num != 0:\n",
        "  num = random.randint(0,4)\n",
        "  if i == 5:\n",
        "    print(\"5回目なので繰り返し処理を強制終了します\")\n",
        "    break\n",
        "\n",
        "  print(f\"現在の値は{num}です。\")\n",
        "  i=i+1"
      ],
      "metadata": {
        "colab": {
          "base_uri": "https://localhost:8080/"
        },
        "id": "Dn9U_RKZweI_",
        "outputId": "e157da37-92e0-464b-c54f-5da0ae1d7a10"
      },
      "execution_count": 11,
      "outputs": [
        {
          "output_type": "stream",
          "name": "stdout",
          "text": [
            "最初の値は2です。\n",
            "現在の値は4です。\n",
            "現在の値は4です。\n",
            "現在の値は0です。\n"
          ]
        }
      ]
    },
    {
      "cell_type": "code",
      "source": [
        "import random\n",
        "sum = 0\n",
        "\n",
        "while sum < 20:\n",
        "  num = random.randint(1,10)\n",
        "\n",
        "  print(f\"最初の値は{num}です。\")\n",
        "\n",
        "  if num % 2 ==0:\n",
        "    print(\"偶数なので加算しません。\")\n",
        "    continue\n",
        "\n",
        "  sum = sum + num\n",
        "  print(f\"現在の合計は{sum}です。\")"
      ],
      "metadata": {
        "colab": {
          "base_uri": "https://localhost:8080/"
        },
        "id": "Dca1LweSxbjl",
        "outputId": "8b3ea3c2-a751-48eb-9664-cb7de5cca0a2"
      },
      "execution_count": 12,
      "outputs": [
        {
          "output_type": "stream",
          "name": "stdout",
          "text": [
            "最初の値は2です。\n",
            "偶数なので加算しません。\n",
            "最初の値は5です。\n",
            "現在の合計は5です。\n",
            "最初の値は2です。\n",
            "偶数なので加算しません。\n",
            "最初の値は2です。\n",
            "偶数なので加算しません。\n",
            "最初の値は1です。\n",
            "現在の合計は6です。\n",
            "最初の値は3です。\n",
            "現在の合計は9です。\n",
            "最初の値は7です。\n",
            "現在の合計は16です。\n",
            "最初の値は7です。\n",
            "現在の合計は23です。\n"
          ]
        }
      ]
    },
    {
      "cell_type": "code",
      "source": [
        "user_names = [\"侍太郎\", \"侍一郎\", \"侍二郎\", \"侍三郎\", \"侍四郎\"]\n",
        "\n",
        "for user_name in user_names:\n",
        "  print(user_name)"
      ],
      "metadata": {
        "colab": {
          "base_uri": "https://localhost:8080/"
        },
        "id": "2Y0OS9X00gF8",
        "outputId": "fcb9d8a0-a89a-40d6-fcd9-16b439950c9d"
      },
      "execution_count": 13,
      "outputs": [
        {
          "output_type": "stream",
          "name": "stdout",
          "text": [
            "侍太郎\n",
            "侍一郎\n",
            "侍二郎\n",
            "侍三郎\n",
            "侍四郎\n"
          ]
        }
      ]
    },
    {
      "cell_type": "code",
      "source": [
        "personal_data = {\"name\": \"侍太郎\", \"age\": 36, \"gender\": \"男性\"}\n",
        "\n",
        "for key, value in personal_data.items():\n",
        "  print(f\"{key}は{value}です。\")\n",
        "\n",
        "for value in personal_data.values():\n",
        "  print(value)"
      ],
      "metadata": {
        "colab": {
          "base_uri": "https://localhost:8080/"
        },
        "id": "lLTUpMza1QJy",
        "outputId": "3ffda677-147b-441a-dcaf-7446eca9db5e"
      },
      "execution_count": 14,
      "outputs": [
        {
          "output_type": "stream",
          "name": "stdout",
          "text": [
            "nameは侍太郎です。\n",
            "ageは36です。\n",
            "genderは男性です。\n",
            "侍太郎\n",
            "36\n",
            "男性\n"
          ]
        }
      ]
    },
    {
      "cell_type": "code",
      "source": [
        "user_names = [\"侍太郎\", \"侍一郎\", \"侍二郎\", \"侍三郎\", \"侍四郎\"]\n",
        "\n",
        "for index, value in enumerate(user_names):\n",
        "  print(f\"{index} : {value}\")"
      ],
      "metadata": {
        "colab": {
          "base_uri": "https://localhost:8080/"
        },
        "id": "uhuubEuN2PQ-",
        "outputId": "23486ae7-b264-4137-c54f-5985f36ac9c2"
      },
      "execution_count": 15,
      "outputs": [
        {
          "output_type": "stream",
          "name": "stdout",
          "text": [
            "0 : 侍太郎\n",
            "1 : 侍一郎\n",
            "2 : 侍二郎\n",
            "3 : 侍三郎\n",
            "4 : 侍四郎\n"
          ]
        }
      ]
    },
    {
      "cell_type": "code",
      "source": [
        "user_names = [\"侍太郎\", \"侍一郎\", \"侍二郎\", \"侍三郎\", \"侍四郎\"]\n",
        "\n",
        "target = \"侍二郎\"\n",
        "\n",
        "for user_name in user_names:\n",
        "  print(user_name)\n",
        "\n",
        "  if(user_name == target):\n",
        "    print(f\"{target}さんが見つかったので繰り返し処理を強制終了します。\")\n",
        "    break"
      ],
      "metadata": {
        "colab": {
          "base_uri": "https://localhost:8080/"
        },
        "id": "jYJsNmjn21-o",
        "outputId": "b4dcaf93-93f8-483a-a7c1-cd50f094fbe6"
      },
      "execution_count": 18,
      "outputs": [
        {
          "output_type": "stream",
          "name": "stdout",
          "text": [
            "侍太郎\n",
            "侍一郎\n",
            "侍二郎\n",
            "侍二郎さんが見つかったので繰り返し処理を強制終了します。\n"
          ]
        }
      ]
    },
    {
      "cell_type": "code",
      "source": [
        "score ={\n",
        "    \"国語\":80,\n",
        "    \"数学\":55,\n",
        "    \"理科\":70,\n",
        "    \"社会\":85,\n",
        "    \"英語\":60\n",
        "}\n",
        "\n",
        "print(\"合格した科目は以下のとおりです。\")\n",
        "\n",
        "for key, value in score.items():\n",
        "  if(value < 70):\n",
        "    continue\n",
        "  print(f\"{key}:{value}点\")"
      ],
      "metadata": {
        "colab": {
          "base_uri": "https://localhost:8080/"
        },
        "id": "0bbARLv33qSR",
        "outputId": "7eeea59c-46b9-4c89-aa25-067ddc2cb1c2"
      },
      "execution_count": 19,
      "outputs": [
        {
          "output_type": "stream",
          "name": "stdout",
          "text": [
            "合格した科目は以下のとおりです。\n",
            "国語:80点\n",
            "理科:70点\n",
            "社会:85点\n"
          ]
        }
      ]
    },
    {
      "cell_type": "code",
      "source": [
        "array = [\"水\",\"金\",\"地\",\"火\",\"木\",\"土\",\"天\",\"海\",\"冥\"]\n",
        "\n",
        "for array_1 in array:\n",
        "  print(array_1)\n",
        "\n",
        "i = 0\n",
        "\n",
        "while i < 9:\n",
        "  print(array[i])\n",
        "  i = i+1"
      ],
      "metadata": {
        "colab": {
          "base_uri": "https://localhost:8080/"
        },
        "id": "SGe6mdpW7LUI",
        "outputId": "e5b72b49-88a2-4e2e-979f-382a6adba627"
      },
      "execution_count": 20,
      "outputs": [
        {
          "output_type": "stream",
          "name": "stdout",
          "text": [
            "水\n",
            "金\n",
            "地\n",
            "火\n",
            "木\n",
            "土\n",
            "天\n",
            "海\n",
            "冥\n",
            "水\n",
            "金\n",
            "地\n",
            "火\n",
            "木\n",
            "土\n",
            "天\n",
            "海\n",
            "冥\n"
          ]
        }
      ]
    },
    {
      "cell_type": "code",
      "source": [
        "def say_good_morning():\n",
        "  print(\"おはようございます！\")\n",
        "  print(\"昨日はよく眠れましたか？\")\n",
        "  print(\"今日も一日頑張りましょう！\")\n",
        "\n",
        "def say_good_evening():\n",
        "  print(\"こんばんは！\")\n",
        "  print(\"今日も一日お疲れさまでした。\")\n",
        "\n",
        "say_good_morning()\n",
        "\n",
        "say_good_evening()"
      ],
      "metadata": {
        "colab": {
          "base_uri": "https://localhost:8080/"
        },
        "id": "g_1PoRUyCnKx",
        "outputId": "5a8d6320-1ac5-475b-ced8-c9bff0420263"
      },
      "execution_count": 21,
      "outputs": [
        {
          "output_type": "stream",
          "name": "stdout",
          "text": [
            "おはようございます！\n",
            "昨日はよく眠れましたか？\n",
            "今日も一日頑張りましょう！\n",
            "こんばんは！\n",
            "今日も一日お疲れさまでした。\n"
          ]
        }
      ]
    },
    {
      "cell_type": "code",
      "source": [
        "def calculate_total(price):\n",
        "  total = price + 500\n",
        "  print(f\"{total}円\")\n",
        "\n",
        "calculate_total(1500)"
      ],
      "metadata": {
        "colab": {
          "base_uri": "https://localhost:8080/"
        },
        "id": "nliwflyE3YpH",
        "outputId": "26c3c929-83d2-4f4c-ae37-bf8442448b3f"
      },
      "execution_count": 2,
      "outputs": [
        {
          "output_type": "stream",
          "name": "stdout",
          "text": [
            "2000円\n"
          ]
        }
      ]
    },
    {
      "cell_type": "code",
      "source": [
        "def calculate_total(price: int, shipping_fee: int) -> int:\n",
        "  total = price + shipping_fee\n",
        "  print(f\"{total}円\")\n",
        "\n",
        "calculate_total(1200, 500)"
      ],
      "metadata": {
        "colab": {
          "base_uri": "https://localhost:8080/"
        },
        "id": "cOuJrmtP35hm",
        "outputId": "49959a29-ed8b-4a82-d48b-2f8087ad1e46"
      },
      "execution_count": 6,
      "outputs": [
        {
          "output_type": "stream",
          "name": "stdout",
          "text": [
            "1700円\n"
          ]
        }
      ]
    },
    {
      "cell_type": "code",
      "source": [
        "purchased = True\n",
        "\n",
        "def is_purchased():\n",
        "  if(purchased):\n",
        "    return True\n",
        "  else:\n",
        "    return False\n",
        "\n",
        "if(is_purchased()==True):\n",
        "  print(\"商品は購入済みです。\")"
      ],
      "metadata": {
        "colab": {
          "base_uri": "https://localhost:8080/"
        },
        "id": "KX_N_FJV497x",
        "outputId": "eb14a5ea-793b-4bb0-d3a7-af1d9a7fc1ca"
      },
      "execution_count": 4,
      "outputs": [
        {
          "output_type": "stream",
          "name": "stdout",
          "text": [
            "商品は購入済みです。\n"
          ]
        }
      ]
    },
    {
      "cell_type": "code",
      "source": [
        "def calculate_tax(price, tax):\n",
        "  price_tax = price * (1+tax)\n",
        "  return price_tax\n",
        "\n",
        "price = 1000\n",
        "tax = 0.1\n",
        "print(f\"商品の税込価格は{calculate_tax(price, tax)}円です。\")"
      ],
      "metadata": {
        "colab": {
          "base_uri": "https://localhost:8080/"
        },
        "id": "8JhnvkhJ7VCF",
        "outputId": "2516f6d3-de1a-4b04-f681-3d6c6245d2f2"
      },
      "execution_count": 14,
      "outputs": [
        {
          "output_type": "stream",
          "name": "stdout",
          "text": [
            "商品の税込価格は1100.0円です。\n"
          ]
        }
      ]
    },
    {
      "cell_type": "code",
      "source": [
        "def show_user_name():\n",
        "  user_name = \"侍太郎\"\n",
        "  print(user_name)\n",
        "\n",
        "show_user_name()"
      ],
      "metadata": {
        "colab": {
          "base_uri": "https://localhost:8080/"
        },
        "id": "1gu6SVbZGKf_",
        "outputId": "d9d67162-ff22-4f0a-bcbe-6e7efb4b2ea4"
      },
      "execution_count": 16,
      "outputs": [
        {
          "output_type": "stream",
          "name": "stdout",
          "text": [
            "侍太郎\n"
          ]
        }
      ]
    },
    {
      "cell_type": "code",
      "source": [
        "def show_user_name():\n",
        "  user_name = \"侍太郎\"\n",
        "  print(user_name)\n",
        "\n",
        "show_user_name()\n",
        "\n",
        "print(user_name)"
      ],
      "metadata": {
        "colab": {
          "base_uri": "https://localhost:8080/",
          "height": 199
        },
        "id": "-AJOpw_qGrlP",
        "outputId": "1d9121ae-1b18-4d32-d197-2b34314f6206"
      },
      "execution_count": 17,
      "outputs": [
        {
          "output_type": "stream",
          "name": "stdout",
          "text": [
            "侍太郎\n"
          ]
        },
        {
          "output_type": "error",
          "ename": "NameError",
          "evalue": "name 'user_name' is not defined",
          "traceback": [
            "\u001b[0;31m---------------------------------------------------------------------------\u001b[0m",
            "\u001b[0;31mNameError\u001b[0m                                 Traceback (most recent call last)",
            "\u001b[0;32m<ipython-input-17-e4080d0b4af2>\u001b[0m in \u001b[0;36m<cell line: 7>\u001b[0;34m()\u001b[0m\n\u001b[1;32m      5\u001b[0m \u001b[0mshow_user_name\u001b[0m\u001b[0;34m(\u001b[0m\u001b[0;34m)\u001b[0m\u001b[0;34m\u001b[0m\u001b[0;34m\u001b[0m\u001b[0m\n\u001b[1;32m      6\u001b[0m \u001b[0;34m\u001b[0m\u001b[0m\n\u001b[0;32m----> 7\u001b[0;31m \u001b[0mprint\u001b[0m\u001b[0;34m(\u001b[0m\u001b[0muser_name\u001b[0m\u001b[0;34m)\u001b[0m\u001b[0;34m\u001b[0m\u001b[0;34m\u001b[0m\u001b[0m\n\u001b[0m",
            "\u001b[0;31mNameError\u001b[0m: name 'user_name' is not defined"
          ]
        }
      ]
    },
    {
      "cell_type": "code",
      "source": [
        "user_name = \"侍花子\"\n",
        "\n",
        "def show_user_name():\n",
        "  user_name = \"侍太郎\"\n",
        "  print(user_name)\n",
        "\n",
        "show_user_name()\n",
        "\n",
        "print(user_name)"
      ],
      "metadata": {
        "colab": {
          "base_uri": "https://localhost:8080/"
        },
        "id": "FmOw1UTnG96J",
        "outputId": "251c1022-650f-4cd9-8963-f369dcd30903"
      },
      "execution_count": 19,
      "outputs": [
        {
          "output_type": "stream",
          "name": "stdout",
          "text": [
            "侍花子\n",
            "侍花子\n"
          ]
        }
      ]
    },
    {
      "cell_type": "code",
      "source": [
        "price1 = 100\n",
        "price2 = 200\n",
        "tax = 1.1\n",
        "\n",
        "def total():\n",
        "    #tax = 1.1\n",
        "    return price1 + price2\n",
        "\n",
        "print (total() * tax)\n"
      ],
      "metadata": {
        "colab": {
          "base_uri": "https://localhost:8080/"
        },
        "id": "NuzrWrYT7On2",
        "outputId": "176f8e95-7007-4301-9055-1c295997a917"
      },
      "execution_count": 2,
      "outputs": [
        {
          "output_type": "stream",
          "name": "stdout",
          "text": [
            "330.0\n"
          ]
        }
      ]
    }
  ]
}